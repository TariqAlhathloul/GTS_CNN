{
 "cells": [
  {
   "cell_type": "code",
   "execution_count": 2,
   "metadata": {},
   "outputs": [],
   "source": [
    "import numpy as np \n",
    "import pandas as pd \n",
    "import tensorflow as tf\n",
    "import os\n",
    "from sklearn import metrics \n",
    "from sklearn.metrics import f1_score, accuracy_score,confusion_matrix,classification_report\n",
    "import matplotlib.pyplot as plt\n",
    "import seaborn as sns\n",
    "\n",
    "from sklearn.model_selection import train_test_split\n",
    "from tensorflow.keras.utils import to_categorical\n",
    "from tensorflow.keras.models import Sequential, load_model\n",
    "from tensorflow.keras.layers import Conv2D, MaxPool2D, Dense, Flatten, Dropout\n"
   ]
  },
  {
   "cell_type": "code",
   "execution_count": 10,
   "metadata": {},
   "outputs": [],
   "source": [
    "from PIL import Image\n",
    "data = []\n",
    "labels = []\n",
    "classes = 43\n",
    "cur_path = \"DataSet/Train\"\n",
    "\n",
    "for i in range(classes):\n",
    "    path = os.path.join('DataSet/', 'Train',str(i))\n",
    "    images = os.listdir(path)\n",
    "#DataSet/Train\n",
    "    for a in images:\n",
    "        try:\n",
    "            image = Image.open(path + '/'+ a)\n",
    "            image = image.resize((30,30))\n",
    "            image = np.array(image)\n",
    "            #sim = Image.fromarray(image)\n",
    "            data.append(image)\n",
    "            labels.append(i)\n",
    "        except:\n",
    "            print(\"Error loading image\")\n",
    "#lists into numpy arrays\n",
    "\n",
    "data = np.array(data)\n",
    "labels = np.array(labels)"
   ]
  },
  {
   "cell_type": "code",
   "execution_count": 20,
   "metadata": {},
   "outputs": [
    {
     "name": "stdout",
     "output_type": "stream",
     "text": [
      "[[[186 164 164]\n",
      "  [172 127 106]\n",
      "  [172 119  85]\n",
      "  ...\n",
      "  [179 122  88]\n",
      "  [182 130  93]\n",
      "  [182 127  94]]\n",
      "\n",
      " [[173 151 137]\n",
      "  [160 114  89]\n",
      "  [166 116  84]\n",
      "  ...\n",
      "  [168 122  89]\n",
      "  [168 126  93]\n",
      "  [167 124  94]]\n",
      "\n",
      " [[178 155 148]\n",
      "  [176 148 135]\n",
      "  [181 146 136]\n",
      "  ...\n",
      "  [171 158 149]\n",
      "  [173 159 149]\n",
      "  [174 161 151]]\n",
      "\n",
      " ...\n",
      "\n",
      " [[ 91  94 100]\n",
      "  [ 91  92  95]\n",
      "  [ 91  94  90]\n",
      "  ...\n",
      "  [101 100  96]\n",
      "  [107 101  98]\n",
      "  [110 102  97]]\n",
      "\n",
      " [[ 99 100 105]\n",
      "  [ 97  98  98]\n",
      "  [ 96 100  98]\n",
      "  ...\n",
      "  [100 101  94]\n",
      "  [107 106 102]\n",
      "  [117 112 107]]\n",
      "\n",
      " [[102 105 100]\n",
      "  [104 106 101]\n",
      "  [102 102 100]\n",
      "  ...\n",
      "  [103 102  98]\n",
      "  [106 108 104]\n",
      "  [108 109 106]]] 0\n"
     ]
    }
   ],
   "source": [
    "print(data[0], labels[0])"
   ]
  },
  {
   "cell_type": "code",
   "execution_count": 17,
   "metadata": {},
   "outputs": [
    {
     "data": {
      "image/png": "[encoded data removed]",
      "text/plain": [
       "<Figure size 640x480 with 1 Axes>"
      ]
     },
     "metadata": {},
     "output_type": "display_data"
    }
   ],
   "source": [
    "import matplotlib.pyplot as plt\n",
    "\n",
    "# Display the sample image\n",
    "plt.imshow(image)\n",
    "plt.axis('on')\n",
    "plt.show()"
   ]
  },
  {
   "cell_type": "code",
   "execution_count": 18,
   "metadata": {},
   "outputs": [
    {
     "name": "stdout",
     "output_type": "stream",
     "text": [
      "42\n"
     ]
    }
   ],
   "source": [
    "image_index = data.tolist().index(image.tolist())\n",
    "label = labels[image_index]\n",
    "print(label)"
   ]
  },
  {
   "cell_type": "code",
   "execution_count": null,
   "metadata": {},
   "outputs": [],
   "source": []
  },
  {
   "cell_type": "code",
   "execution_count": null,
   "metadata": {},
   "outputs": [],
   "source": []
  },
  {
   "cell_type": "code",
   "execution_count": null,
   "metadata": {},
   "outputs": [],
   "source": []
  },
  {
   "cell_type": "code",
   "execution_count": null,
   "metadata": {},
   "outputs": [],
   "source": []
  }
 ],
 "metadata": {
  "kernelspec": {
   "display_name": "Python 3",
   "language": "python",
   "name": "python3"
  },
  "language_info": {
   "codemirror_mode": {
    "name": "ipython",
    "version": 3
   },
   "file_extension": ".py",
   "mimetype": "text/x-python",
   "name": "python",
   "nbconvert_exporter": "python",
   "pygments_lexer": "ipython3",
   "version": "3.12.4"
  }
 },
 "nbformat": 4,
 "nbformat_minor": 2
}
